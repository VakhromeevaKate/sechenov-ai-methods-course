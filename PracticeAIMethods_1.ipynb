{
  "nbformat": 4,
  "nbformat_minor": 0,
  "metadata": {
    "colab": {
      "provenance": [],
      "authorship_tag": "ABX9TyPLZ02Z1lV26TGWGeazdigQ",
      "include_colab_link": true
    },
    "kernelspec": {
      "name": "python3",
      "display_name": "Python 3"
    },
    "language_info": {
      "name": "python"
    }
  },
  "cells": [
    {
      "cell_type": "markdown",
      "metadata": {
        "id": "view-in-github",
        "colab_type": "text"
      },
      "source": [
        "<a href=\"https://colab.research.google.com/github/VakhromeevaKate/sechenov-ai-methods-course/blob/main/PracticeAIMethods_1.ipynb\" target=\"_parent\"><img src=\"https://colab.research.google.com/assets/colab-badge.svg\" alt=\"Open In Colab\"/></a>"
      ]
    },
    {
      "cell_type": "markdown",
      "source": [
        "# Промт-инжиниринг: Mistral, Qwen, DeepSeek, GigaChat, Humata, multillm.ai. chathub.gg\n",
        "\n",
        "Определение: это процесс создания и оптимизации текстовых запросов (промптов), которые используются для взаимодействия с большими языковыми моделями (LLM) искусственного интеллекта.\n",
        "\n",
        "Цель промпт-инжиниринга — получить от ИИ-модели максимально точный, релевантный и полезный ответ, понимая её возможности и ограничения. Промпт-инженеры формулируют инструкции и задают вопросы так, чтобы направить модель к выполнению конкретной задачи, будь то генерация текста, написание кода, перевод или что-то ещё.\n",
        "\n",
        "С чем будем работать на семинаре:\n",
        "- Mistral,\n",
        "- Qwen,\n",
        "- DeepSeek,\n",
        "- GigaChat,\n",
        "- Humata,\n",
        "- multillm.ai.\n",
        "- chathub.gg"
      ],
      "metadata": {
        "id": "x48QHW7Tgadp"
      }
    },
    {
      "cell_type": "markdown",
      "source": [
        "Что GPT-модели умеют:\n",
        "- искать информацию (поиск)\n",
        "- обобщать информацию\n",
        "- генерировать информацию (иозбражения, текст и т п)\n",
        "- стилизация (в основном, за счет контекста, напеример: ты - школьник 5 класса средней школы. Напиши эссе по теме \"Как я провел лето в деревне у бабушки\")"
      ],
      "metadata": {
        "id": "_PF89sik_uFs"
      }
    },
    {
      "cell_type": "markdown",
      "source": [
        "Структура промпта:\n",
        "Контекст: ты - учитель, ребенок, профессионал в какой-то области...\n",
        "Задача: напиши текст, сгенерируй изображение, напиши код на языке lisp...\n",
        "Формат ответа: в виде таблицы, текста, списка... или пример того, как должен выглядеть ответ.\n",
        "\n",
        "Задача для GPT должна быть сформулирована полностью и ясно.\n",
        "\n",
        "Поисковые промпты могут выглядеть просто как вопрос - сколько спутников у Сатурна? Кто автор Тихий Дон? и т п\n",
        "\n"
      ],
      "metadata": {
        "id": "hG7TYcUqA7oO"
      }
    },
    {
      "cell_type": "code",
      "source": [],
      "metadata": {
        "id": "tKjlKPvT_tGX"
      },
      "execution_count": null,
      "outputs": []
    }
  ]
}