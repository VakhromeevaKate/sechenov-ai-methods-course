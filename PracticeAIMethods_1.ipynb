{
  "nbformat": 4,
  "nbformat_minor": 0,
  "metadata": {
    "colab": {
      "provenance": [],
      "authorship_tag": "ABX9TyN7zvt39qZC0XXtkYZh3MGT",
      "include_colab_link": true
    },
    "kernelspec": {
      "name": "python3",
      "display_name": "Python 3"
    },
    "language_info": {
      "name": "python"
    }
  },
  "cells": [
    {
      "cell_type": "markdown",
      "metadata": {
        "id": "view-in-github",
        "colab_type": "text"
      },
      "source": [
        "<a href=\"https://colab.research.google.com/github/VakhromeevaKate/sechenov-ai-methods-course/blob/main/PracticeAIMethods_1.ipynb\" target=\"_parent\"><img src=\"https://colab.research.google.com/assets/colab-badge.svg\" alt=\"Open In Colab\"/></a>"
      ]
    },
    {
      "cell_type": "markdown",
      "source": [
        "# Промт-инжиниринг: Mistral, Qwen, DeepSeek, GigaChat, Humata, multillm.ai. chathub.gg\n",
        "\n",
        "Определение: это процесс создания и оптимизации текстовых запросов (промптов), которые используются для взаимодействия с большими языковыми моделями (LLM) искусственного интеллекта.\n",
        "\n",
        "Цель промпт-инжиниринга — получить от ИИ-модели максимально точный, релевантный и полезный ответ, понимая её возможности и ограничения. Промпт-инженеры формулируют инструкции и задают вопросы так, чтобы направить модель к выполнению конкретной задачи, будь то генерация текста, написание кода, перевод или что-то ещё.\n",
        "\n",
        "С чем будем работать на семинаре:\n",
        "- Mistral,\n",
        "- Qwen,\n",
        "- DeepSeek,\n",
        "- GigaChat,\n",
        "- Humata,\n",
        "- multillm.ai.\n",
        "- chathub.gg"
      ],
      "metadata": {
        "id": "x48QHW7Tgadp"
      }
    }
  ]
}